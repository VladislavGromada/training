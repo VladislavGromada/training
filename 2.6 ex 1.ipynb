{
 "cells": [
  {
   "cell_type": "code",
   "execution_count": 62,
   "metadata": {},
   "outputs": [
    {
     "name": "stdout",
     "output_type": "stream",
     "text": [
      "1\n",
      "3\n",
      "0\n",
      "3\n",
      "-6\n",
      "-1\n",
      "56\n"
     ]
    }
   ],
   "source": [
    "a = int(input())\n",
    "b = 0\n",
    "c = 0\n",
    "d = 0\n",
    "if a == 0:\n",
    "    print(a)\n",
    "else :\n",
    "    while d == 0:\n",
    "        b += a\n",
    "        c = c + a * a\n",
    "        if b == 0:\n",
    "            print(c)\n",
    "            break\n",
    "        a = int(input())"
   ]
  }
 ],
 "metadata": {
  "kernelspec": {
   "display_name": "Python 3",
   "language": "python",
   "name": "python3"
  },
  "language_info": {
   "codemirror_mode": {
    "name": "ipython",
    "version": 3
   },
   "file_extension": ".py",
   "mimetype": "text/x-python",
   "name": "python",
   "nbconvert_exporter": "python",
   "pygments_lexer": "ipython3",
   "version": "3.8.3"
  }
 },
 "nbformat": 4,
 "nbformat_minor": 4
}
