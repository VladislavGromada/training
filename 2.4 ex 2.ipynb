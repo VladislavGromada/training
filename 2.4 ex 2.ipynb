{
 "cells": [
  {
   "cell_type": "code",
   "execution_count": 56,
   "metadata": {},
   "outputs": [
    {
     "name": "stdout",
     "output_type": "stream",
     "text": [
      "abbcccddddeeeee\n",
      "a1b2c3d4e5"
     ]
    }
   ],
   "source": [
    "a = input()\n",
    "ind = 0 # индекс\n",
    "sum = 0 # колличество\n",
    "zx = 1 # индекс + 1\n",
    "num = len(a)\n",
    "while zx != num:\n",
    "    if a[ind] == a[zx]:\n",
    "        sum += 1\n",
    "        ind += 1\n",
    "        zx += 1\n",
    "    elif a[ind] != a[zx]:\n",
    "        sum += 1\n",
    "        print(a[ind], sum, end='', sep = '')\n",
    "        ind += 1\n",
    "        sum -= sum\n",
    "        zx += 1\n",
    "if zx == num:\n",
    "    sum += 1\n",
    "    print(a[ind], sum, end='', sep = '')"
   ]
  },
  {
   "cell_type": "code",
   "execution_count": null,
   "metadata": {},
   "outputs": [],
   "source": []
  },
  {
   "cell_type": "code",
   "execution_count": null,
   "metadata": {},
   "outputs": [],
   "source": []
  },
  {
   "cell_type": "code",
   "execution_count": null,
   "metadata": {},
   "outputs": [],
   "source": [
    "aa"
   ]
  }
 ],
 "metadata": {
  "kernelspec": {
   "display_name": "Python 3",
   "language": "python",
   "name": "python3"
  },
  "language_info": {
   "codemirror_mode": {
    "name": "ipython",
    "version": 3
   },
   "file_extension": ".py",
   "mimetype": "text/x-python",
   "name": "python",
   "nbconvert_exporter": "python",
   "pygments_lexer": "ipython3",
   "version": "3.8.3"
  }
 },
 "nbformat": 4,
 "nbformat_minor": 4
}
