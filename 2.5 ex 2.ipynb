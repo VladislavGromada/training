{
 "cells": [
  {
   "cell_type": "code",
   "execution_count": 67,
   "metadata": {},
   "outputs": [
    {
     "name": "stdout",
     "output_type": "stream",
     "text": [
      "1 2 3 4 5 6\n",
      "8 4 6 8 10 6\n"
     ]
    }
   ],
   "source": [
    "b = []\n",
    "summa = 0\n",
    "a = [int(i) for i in input().split()]\n",
    "if len(a) == 1:\n",
    "    print(a[0])\n",
    "if len(a) > 1:\n",
    "    for i in range(len(a)):\n",
    "        if i == 0:\n",
    "            summa = a[-1] + a[1]\n",
    "            b += [summa]\n",
    "        elif i + 1 == len(a):\n",
    "            summa = a[0] + a[-2]\n",
    "            b += [summa]\n",
    "        elif 0 < i < len(a):\n",
    "            summa = a[i - 1] + a[i + 1]\n",
    "            b += [summa]\n",
    "print(*b)\n",
    "   \n",
    "   \n",
    "        \n",
    "        \n",
    "        \n"
   ]
  }
 ],
 "metadata": {
  "kernelspec": {
   "display_name": "Python 3",
   "language": "python",
   "name": "python3"
  },
  "language_info": {
   "codemirror_mode": {
    "name": "ipython",
    "version": 3
   },
   "file_extension": ".py",
   "mimetype": "text/x-python",
   "name": "python",
   "nbconvert_exporter": "python",
   "pygments_lexer": "ipython3",
   "version": "3.8.3"
  }
 },
 "nbformat": 4,
 "nbformat_minor": 4
}
