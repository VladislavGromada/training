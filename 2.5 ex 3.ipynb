{
 "cells": [
  {
   "cell_type": "code",
   "execution_count": 28,
   "metadata": {},
   "outputs": [
    {
     "name": "stdout",
     "output_type": "stream",
     "text": [
      "12 22 2 12 2 22 12 10\n",
      "['10', '12', '12', '12', '2', '2', '22', '22']\n",
      "['12', '2', '22']\n"
     ]
    }
   ],
   "source": [
    "a = input().split()\n",
    "checklist = []\n",
    "a.sort()\n",
    "counter = 0\n",
    "if len(a) > 1:\n",
    "    for i in range(len(a) - 2):\n",
    "        if a[i] == a[i + 1] != a[i + 2]:\n",
    "            checklist += [a[i]]\n",
    "    if a[-1] == a[-2]:\n",
    "        checklist += [a[-1]]\n",
    "print(*checklist)\n",
    "\n",
    "\n",
    "        \n",
    "\n",
    "        \n",
    "        \n",
    "        \n",
    "        \n",
    "        \n",
    "    "
   ]
  },
  {
   "cell_type": "code",
   "execution_count": 27,
   "metadata": {},
   "outputs": [
    {
     "name": "stdout",
     "output_type": "stream",
     "text": [
      "1\n"
     ]
    }
   ],
   "source": []
  },
  {
   "cell_type": "code",
   "execution_count": null,
   "metadata": {},
   "outputs": [],
   "source": []
  }
 ],
 "metadata": {
  "kernelspec": {
   "display_name": "Python 3",
   "language": "python",
   "name": "python3"
  },
  "language_info": {
   "codemirror_mode": {
    "name": "ipython",
    "version": 3
   },
   "file_extension": ".py",
   "mimetype": "text/x-python",
   "name": "python",
   "nbconvert_exporter": "python",
   "pygments_lexer": "ipython3",
   "version": "3.8.3"
  }
 },
 "nbformat": 4,
 "nbformat_minor": 4
}
